{
  "nbformat": 4,
  "nbformat_minor": 0,
  "metadata": {
    "colab": {
      "provenance": []
    },
    "kernelspec": {
      "name": "python3",
      "display_name": "Python 3"
    },
    "language_info": {
      "name": "python"
    }
  },
  "cells": [
    {
      "cell_type": "code",
      "execution_count": 1,
      "metadata": {
        "colab": {
          "base_uri": "https://localhost:8080/"
        },
        "id": "Q3u_h4p-hL4I",
        "outputId": "f22bb93a-a84c-4d64-b01f-efa6da47fdcd"
      },
      "outputs": [
        {
          "output_type": "stream",
          "name": "stdout",
          "text": [
            "<class 'int'>\n",
            "<class 'str'>\n",
            "<class 'list'>\n"
          ]
        }
      ],
      "source": [
        "import numpy as np\n",
        "# 3.1.1\n",
        "x=5\n",
        "print(type(x))\n",
        "x=\"abc\"\n",
        "print(type(x))\n",
        "x=[1,2,3,10]\n",
        "print(type(x))"
      ]
    },
    {
      "cell_type": "code",
      "source": [
        "import numpy as np\n",
        "alist=[1,2,3,10]\n",
        "arr=np.array(alist)\n",
        "print(arr)\n",
        "print(type(arr))\n",
        "print(alist+arr,type(alist+arr))\n",
        "print(arr+alist,type(arr+alist))\n",
        "print(alist*10)\n",
        "print(arr*10)"
      ],
      "metadata": {
        "colab": {
          "base_uri": "https://localhost:8080/"
        },
        "id": "a52hjh4OiE7n",
        "outputId": "67c619ff-bd8e-4090-dce1-eabdb64af4a1"
      },
      "execution_count": 2,
      "outputs": [
        {
          "output_type": "stream",
          "name": "stdout",
          "text": [
            "[ 1  2  3 10]\n",
            "<class 'numpy.ndarray'>\n",
            "[ 2  4  6 20] <class 'numpy.ndarray'>\n",
            "[ 2  4  6 20] <class 'numpy.ndarray'>\n",
            "[1, 2, 3, 10, 1, 2, 3, 10, 1, 2, 3, 10, 1, 2, 3, 10, 1, 2, 3, 10, 1, 2, 3, 10, 1, 2, 3, 10, 1, 2, 3, 10, 1, 2, 3, 10, 1, 2, 3, 10]\n",
            "[ 10  20  30 100]\n"
          ]
        }
      ]
    },
    {
      "cell_type": "code",
      "source": [
        "x=np.array([[1,2],[3,4]],dtype=np.double)\n",
        "y=np.array([[1,2],[3,4]],dtype=np.float64)\n",
        "print(x)\n",
        "print(y)\n",
        "print(x+y)\n",
        "print(np.add(x,y))\n",
        "\n",
        "print(x-y)\n",
        "print(np.subtract(x,y))\n",
        "\n",
        "print(x*y)\n",
        "print(np.multiply(x,y))\n",
        "\n",
        "print(x.dot(y))\n",
        "print(np.dot(x,y))\n",
        "print( x @ y)\n",
        "x=np.array([[7,2],[11,3]])\n",
        "y=np.array([[1,0],[0,1]])\n",
        "print(y/x)\n",
        "print(np.divide(y,x))\n",
        "\n",
        "print(np.sqrt(x))\n",
        "\n",
        "#  transpose\n",
        "print(x.T)"
      ],
      "metadata": {
        "colab": {
          "base_uri": "https://localhost:8080/"
        },
        "id": "T01F_8AWjD1P",
        "outputId": "fd2b1e79-5896-42c2-e1ec-74b94857b11e"
      },
      "execution_count": 3,
      "outputs": [
        {
          "output_type": "stream",
          "name": "stdout",
          "text": [
            "[[1. 2.]\n",
            " [3. 4.]]\n",
            "[[1. 2.]\n",
            " [3. 4.]]\n",
            "[[2. 4.]\n",
            " [6. 8.]]\n",
            "[[2. 4.]\n",
            " [6. 8.]]\n",
            "[[0. 0.]\n",
            " [0. 0.]]\n",
            "[[0. 0.]\n",
            " [0. 0.]]\n",
            "[[ 1.  4.]\n",
            " [ 9. 16.]]\n",
            "[[ 1.  4.]\n",
            " [ 9. 16.]]\n",
            "[[ 7. 10.]\n",
            " [15. 22.]]\n",
            "[[ 7. 10.]\n",
            " [15. 22.]]\n",
            "[[ 7. 10.]\n",
            " [15. 22.]]\n",
            "[[0.14285714 0.        ]\n",
            " [0.         0.33333333]]\n",
            "[[0.14285714 0.        ]\n",
            " [0.         0.33333333]]\n",
            "[[2.64575131 1.41421356]\n",
            " [3.31662479 1.73205081]]\n",
            "[[ 7 11]\n",
            " [ 2  3]]\n"
          ]
        }
      ]
    },
    {
      "cell_type": "code",
      "source": [
        "import numpy as np\n",
        "\n",
        "x=[1,2]\n",
        "y=[3,4]\n",
        "\n",
        "x=np.array(x)\n",
        "y=np.array(y)\n",
        "\n",
        "print(np.dot(x,y))\n",
        "print(x @ y)\n",
        "\n"
      ],
      "metadata": {
        "colab": {
          "base_uri": "https://localhost:8080/"
        },
        "id": "btGAiQpykf8y",
        "outputId": "d7fd8643-f084-468f-cc25-5f0119966304"
      },
      "execution_count": 4,
      "outputs": [
        {
          "output_type": "stream",
          "name": "stdout",
          "text": [
            "11\n",
            "11\n"
          ]
        }
      ]
    },
    {
      "cell_type": "code",
      "source": [
        "import numpy as np\n",
        "\n",
        "mat1=np.array([np.array([1,2,3]),[4,5,6],[7,8,9]])\n",
        "print(mat1)\n",
        "\n",
        "okmat=mat1\n",
        "print(okmat*2)\n",
        "\n",
        "\n",
        "badmat1=np.array([[1,3],[2,4,6]],dtype=object)\n",
        "print(badmat1*2)\n",
        "\n",
        "badmat2=np.array([np.array([1,3]),np.array([2,4,6])],dtype=object)\n",
        "print(badmat2*2)\n",
        "\n",
        "print(okmat*2 + 1)\n",
        "\n",
        "print(okmat*okmat)\n",
        "print(okmat+okmat)\n",
        "print(okmat-okmat)\n",
        "\n",
        "okmat=list(okmat);\n",
        "okmat.pop()\n",
        "okmat=np.array(okmat)\n",
        "print(okmat)\n",
        "print(okmat.T)\n",
        "\n",
        "linalg=np.linalg\n",
        "norm=linalg.norm\n",
        "\n",
        "print(norm(okmat))\n",
        "print(norm(np.array([3,4])))\n",
        "\n",
        "print(\"norm col wise\")\n",
        "print(norm(okmat,axis=0))\n",
        "print(\"norm row wise \")\n",
        "print(norm(okmat,axis=1))\n",
        "\n",
        "print(np.sum(okmat,axis=0))\n",
        "print(np.sum(okmat,axis=1))\n",
        "print(np.mean(okmat,axis=0))\n",
        "print(np.mean(okmat,axis=1))\n",
        "print(np.mean(okmat))\n",
        "mean=np.mean\n",
        "okmat=okmat-np.mean(okmat)\n",
        "print(okmat)\n",
        "print(okmat.mean(axis=0))"
      ],
      "metadata": {
        "colab": {
          "base_uri": "https://localhost:8080/"
        },
        "id": "9wdGUkrwlKxi",
        "outputId": "0326fda8-e786-4db5-d2c4-e2ee17cb5d23"
      },
      "execution_count": 5,
      "outputs": [
        {
          "output_type": "stream",
          "name": "stdout",
          "text": [
            "[[1 2 3]\n",
            " [4 5 6]\n",
            " [7 8 9]]\n",
            "[[ 2  4  6]\n",
            " [ 8 10 12]\n",
            " [14 16 18]]\n",
            "[list([1, 3, 1, 3]) list([2, 4, 6, 2, 4, 6])]\n",
            "[array([2, 6]) array([ 4,  8, 12])]\n",
            "[[ 3  5  7]\n",
            " [ 9 11 13]\n",
            " [15 17 19]]\n",
            "[[ 1  4  9]\n",
            " [16 25 36]\n",
            " [49 64 81]]\n",
            "[[ 2  4  6]\n",
            " [ 8 10 12]\n",
            " [14 16 18]]\n",
            "[[0 0 0]\n",
            " [0 0 0]\n",
            " [0 0 0]]\n",
            "[[1 2 3]\n",
            " [4 5 6]]\n",
            "[[1 4]\n",
            " [2 5]\n",
            " [3 6]]\n",
            "9.539392014169456\n",
            "5.0\n",
            "norm col wise\n",
            "[4.12310563 5.38516481 6.70820393]\n",
            "norm row wise \n",
            "[3.74165739 8.77496439]\n",
            "[5 7 9]\n",
            "[ 6 15]\n",
            "[2.5 3.5 4.5]\n",
            "[2. 5.]\n",
            "3.5\n",
            "[[-2.5 -1.5 -0.5]\n",
            " [ 0.5  1.5  2.5]]\n",
            "[-1.  0.  1.]\n"
          ]
        }
      ]
    },
    {
      "cell_type": "code",
      "source": [
        "import numpy as np\n",
        "mat = np.array([[1, 3], [2, 4], [3, 5]])\n",
        "tmat=mat.T\n",
        "print(tmat)\n",
        "mean=np.mean\n",
        "mn=mean(mat,axis=1)\n",
        "print(mn)\n",
        "print(tmat-mn)\n"
      ],
      "metadata": {
        "colab": {
          "base_uri": "https://localhost:8080/"
        },
        "id": "yGOOKhYHqRdX",
        "outputId": "72aa4604-4f82-45c1-ba0c-72c5b2e4aeeb"
      },
      "execution_count": 6,
      "outputs": [
        {
          "output_type": "stream",
          "name": "stdout",
          "text": [
            "[[1 2 3]\n",
            " [3 4 5]]\n",
            "[2. 3. 4.]\n",
            "[[-1. -1. -1.]\n",
            " [ 1.  1.  1.]]\n"
          ]
        }
      ]
    },
    {
      "cell_type": "code",
      "source": [
        "import numpy as np\n",
        "\n",
        "x=np.array([1,2,3])\n",
        "y=np.array([1,2,3])\n",
        "print(x @ y)\n",
        "print(np.sum(x*y))\n",
        "\n",
        "ctr=0\n",
        "for i,j in zip(x,y):\n",
        "  ctr+=(i*j)\n",
        "print(ctr)\n",
        "\n",
        "\n"
      ],
      "metadata": {
        "colab": {
          "base_uri": "https://localhost:8080/"
        },
        "id": "NCVhubRBoUqy",
        "outputId": "3ec0ede7-ab36-4bf8-aac5-604d769a41ca"
      },
      "execution_count": 7,
      "outputs": [
        {
          "output_type": "stream",
          "name": "stdout",
          "text": [
            "14\n",
            "14\n",
            "14\n"
          ]
        }
      ]
    },
    {
      "cell_type": "code",
      "source": [
        "import numpy as np\n",
        "import random as random\n",
        "# ex-1\n",
        "# Create Two numpy array of size 4 X 5 and 5 X 4.\n",
        "randint=random.randint\n",
        "x=[[0 for _ in range(5)] for _ in range(4)]\n",
        "y=[[0 for _ in range(4)] for _ in range(5)]\n",
        "print(x)\n",
        "print(y)\n",
        "x=np.array(x)\n",
        "y=np.array(y)\n",
        "\n",
        "# ex-2 randomly initialize an array\n",
        "for i in range(4):\n",
        "  for j in range(5):\n",
        "    x[i][j]=randint(0,100)\n",
        "\n",
        "\n",
        "for i in range(5):\n",
        "  for j in range(4):\n",
        "    y[i][j]=randint(0,100)\n",
        "\n",
        "print(x)\n",
        "print(y)\n",
        "\n",
        "a=x\n",
        "b=y\n",
        "\n",
        "# ex-3 Perform matrix multiplication\n",
        "\n",
        "print(a @ b) \n",
        "\n",
        "# ex-4 Perform elementwise matrix multiplication\n",
        "# print(a * b)\n",
        "\n",
        "# ex-5 Find mean, median of the first matrix.\n",
        "print(mean(a))\n",
        "lst=[]\n",
        "for row in a:\n",
        "  for col in row:\n",
        "    lst.append(col)\n",
        "lst=sorted(lst)\n",
        "n=len(lst)\n",
        "print(lst[n//2])\n",
        "\n",
        "# ex-6 Get the transpose of that Matrix that you created. Create a square matrix and find its determinant\n",
        "\n",
        "x=[[1,2],[3,4]]\n",
        "det=np.linalg.det\n",
        "print(\"det : \",det(x))\n",
        "# ex-7 Obtain each row in the second column of the first array.\n",
        "lst=[]\n",
        "for row in x:\n",
        "  lst.append(row[1])\n",
        "print(lst)"
      ],
      "metadata": {
        "colab": {
          "base_uri": "https://localhost:8080/"
        },
        "id": "zgepBBEJqtcJ",
        "outputId": "00524de9-41b3-431d-9ebf-6ce19fe8774c"
      },
      "execution_count": 8,
      "outputs": [
        {
          "output_type": "stream",
          "name": "stdout",
          "text": [
            "[[0, 0, 0, 0, 0], [0, 0, 0, 0, 0], [0, 0, 0, 0, 0], [0, 0, 0, 0, 0]]\n",
            "[[0, 0, 0, 0], [0, 0, 0, 0], [0, 0, 0, 0], [0, 0, 0, 0], [0, 0, 0, 0]]\n",
            "[[93 16 50 66 70]\n",
            " [ 0 30 18  6 54]\n",
            " [85 20 63 59 47]\n",
            " [19  8 86 31 50]]\n",
            "[[61 92 81 32]\n",
            " [89 84 34 42]\n",
            " [97 61 22 33]\n",
            " [64 12 15 88]\n",
            " [78 78 78 37]]\n",
            "[[21631 19202 15627 13696]\n",
            " [ 9012  7902  5718  4380]\n",
            " [20518 17717 13502 12570]\n",
            " [16097 11938  8068  8360]]\n",
            "43.55\n",
            "50\n",
            "det :  -2.0000000000000004\n",
            "[2, 4]\n"
          ]
        }
      ]
    },
    {
      "cell_type": "code",
      "source": [
        "import numpy as np\n",
        "array=np.array\n",
        "x=array([[1,2],[3,4]])\n",
        "print(x-np.mean(x,axis=0))"
      ],
      "metadata": {
        "id": "PIPko0fK3nyC",
        "colab": {
          "base_uri": "https://localhost:8080/"
        },
        "outputId": "5e0b4b93-bd3f-4217-f4db-af89aecb380c"
      },
      "execution_count": 9,
      "outputs": [
        {
          "output_type": "stream",
          "name": "stdout",
          "text": [
            "[[-1. -1.]\n",
            " [ 1.  1.]]\n"
          ]
        }
      ]
    },
    {
      "cell_type": "code",
      "source": [
        "# NLTK\n",
        "import nltk\n",
        "from nltk.corpus import twitter_samples\n",
        "import matplotlib.pyplot as plt\n",
        "import random\n",
        "nltk.download('twitter_samples')\n",
        "all_positive_tweets = twitter_samples.strings('positive_tweets.json')\n",
        "# print(all_positive_tweets)\n",
        "\n",
        "fig = plt.figure(figsize=(5, 5))\n",
        "sizes=[10,20,30,40]\n",
        "plt.pie(sizes,labels=['C++','JAVA','PYTHON','JAVASCRIPT'],autopct='%.2f%%')\n",
        "plt.axis('equal')\n",
        "plt.show()\n",
        "\n",
        "mytweet=all_positive_tweets[random.randint(0,10)]\n",
        "print('\\033[91m'+mytweet)\n",
        "othertweet=all_positive_tweets[random.randint(10,20)]\n",
        "print('\\033[92m'+othertweet)"
      ],
      "metadata": {
        "id": "kXwfl11i3_s7",
        "colab": {
          "base_uri": "https://localhost:8080/",
          "height": 526
        },
        "outputId": "cd947488-ae9b-4f00-a8d1-f51d98d871be"
      },
      "execution_count": 10,
      "outputs": [
        {
          "output_type": "stream",
          "name": "stderr",
          "text": [
            "[nltk_data] Downloading package twitter_samples to /root/nltk_data...\n",
            "[nltk_data]   Unzipping corpora/twitter_samples.zip.\n"
          ]
        },
        {
          "output_type": "display_data",
          "data": {
            "text/plain": [
              "<Figure size 500x500 with 1 Axes>"
            ],
            "image/png": "[encoded data removed]"
          },
          "metadata": {}
        },
        {
          "output_type": "stream",
          "name": "stdout",
          "text": [
            "\u001b[91m@BhaktisBanter @PallaviRuhail This one is irresistible :)\n",
            "#FlipkartFashionFriday http://t.co/EbZ0L2VENM\n",
            "\u001b[92mFriend's lunch... yummmm :)\n",
            "#Nostalgia #TBS #KU.\n"
          ]
        }
      ]
    },
    {
      "cell_type": "code",
      "source": [
        "import nltk\n",
        "nltk.download('stopwords')\n",
        "nltk.download('wordnet')\n",
        "nltk.download('omw-1.4')\n",
        "import re\n",
        "import string \n",
        "from nltk.corpus import stopwords\n",
        "from nltk.stem import PorterStemmer\n",
        "from nltk.tokenize import TweetTokenizer\n",
        "from nltk.stem import WordNetLemmatizer\n",
        "mytweet=\"@DespiteOfficial we had a listen last night :) https://www.codechef.com/contests As You Bleed is an amazing track. When are you in Scotland?!\"\n",
        "tweet=re.sub(r'https?:\\/\\/.*[\\r\\n]*', '', mytweet)\n",
        "print(tweet)\n",
        "tokenizer=TweetTokenizer(preserve_case=False)\n",
        "tokens=tokenizer.tokenize(tweet)\n",
        "print(tokens)\n",
        "stopwords_english = stopwords.words('english')\n",
        "\n",
        "print('Stop words\\n')\n",
        "print(stopwords_english)\n",
        "print('\\nPunctuation\\n')\n",
        "print(string.punctuation)\n",
        "\n",
        "clean_tweet=[]\n",
        "for word in tokens:\n",
        "  if ( word not in stopwords_english and word not in string.punctuation):\n",
        "    clean_tweet.append(word)\n",
        "print(clean_tweet)\n",
        "\n",
        "\n",
        "words =['happier','happiness','happy','studying','study','studies','meeting']\n",
        "stemmer=PorterStemmer()\n",
        "for word in words:\n",
        "  print(stemmer.stem(word))\n",
        "\n",
        "word_lemmatizer = WordNetLemmatizer()\n",
        "for word in words:\n",
        "  print(word_lemmatizer.lemmatize(word,pos=\"v\"))"
      ],
      "metadata": {
        "id": "ihgbH7rvScO3",
        "colab": {
          "base_uri": "https://localhost:8080/"
        },
        "outputId": "c56f3247-b0a5-4a2e-a981-887a1b249cee"
      },
      "execution_count": 11,
      "outputs": [
        {
          "output_type": "stream",
          "name": "stderr",
          "text": [
            "[nltk_data] Downloading package stopwords to /root/nltk_data...\n",
            "[nltk_data]   Unzipping corpora/stopwords.zip.\n",
            "[nltk_data] Downloading package wordnet to /root/nltk_data...\n",
            "[nltk_data] Downloading package omw-1.4 to /root/nltk_data...\n"
          ]
        },
        {
          "output_type": "stream",
          "name": "stdout",
          "text": [
            "@DespiteOfficial we had a listen last night :) \n",
            "['@despiteofficial', 'we', 'had', 'a', 'listen', 'last', 'night', ':)']\n",
            "Stop words\n",
            "\n",
            "['i', 'me', 'my', 'myself', 'we', 'our', 'ours', 'ourselves', 'you', \"you're\", \"you've\", \"you'll\", \"you'd\", 'your', 'yours', 'yourself', 'yourselves', 'he', 'him', 'his', 'himself', 'she', \"she's\", 'her', 'hers', 'herself', 'it', \"it's\", 'its', 'itself', 'they', 'them', 'their', 'theirs', 'themselves', 'what', 'which', 'who', 'whom', 'this', 'that', \"that'll\", 'these', 'those', 'am', 'is', 'are', 'was', 'were', 'be', 'been', 'being', 'have', 'has', 'had', 'having', 'do', 'does', 'did', 'doing', 'a', 'an', 'the', 'and', 'but', 'if', 'or', 'because', 'as', 'until', 'while', 'of', 'at', 'by', 'for', 'with', 'about', 'against', 'between', 'into', 'through', 'during', 'before', 'after', 'above', 'below', 'to', 'from', 'up', 'down', 'in', 'out', 'on', 'off', 'over', 'under', 'again', 'further', 'then', 'once', 'here', 'there', 'when', 'where', 'why', 'how', 'all', 'any', 'both', 'each', 'few', 'more', 'most', 'other', 'some', 'such', 'no', 'nor', 'not', 'only', 'own', 'same', 'so', 'than', 'too', 'very', 's', 't', 'can', 'will', 'just', 'don', \"don't\", 'should', \"should've\", 'now', 'd', 'll', 'm', 'o', 're', 've', 'y', 'ain', 'aren', \"aren't\", 'couldn', \"couldn't\", 'didn', \"didn't\", 'doesn', \"doesn't\", 'hadn', \"hadn't\", 'hasn', \"hasn't\", 'haven', \"haven't\", 'isn', \"isn't\", 'ma', 'mightn', \"mightn't\", 'mustn', \"mustn't\", 'needn', \"needn't\", 'shan', \"shan't\", 'shouldn', \"shouldn't\", 'wasn', \"wasn't\", 'weren', \"weren't\", 'won', \"won't\", 'wouldn', \"wouldn't\"]\n",
            "\n",
            "Punctuation\n",
            "\n",
            "!\"#$%&'()*+,-./:;<=>?@[\\]^_`{|}~\n",
            "['@despiteofficial', 'listen', 'last', 'night', ':)']\n",
            "happier\n",
            "happi\n",
            "happi\n",
            "studi\n",
            "studi\n",
            "studi\n",
            "meet\n",
            "happier\n",
            "happiness\n",
            "happy\n",
            "study\n",
            "study\n",
            "study\n",
            "meet\n"
          ]
        }
      ]
    },
    {
      "cell_type": "code",
      "source": [
        "import numpy as np\n",
        "import pandas as pd\n",
        "import matplotlib.pyplot as plt\n",
        "\n",
        "\n",
        "data=pd.read_csv('mtcars.csv')\n",
        "d=pd.crosstab(index=data['cyl'],columns=\"count\",dropna=True)\n",
        "# print(d)\n",
        "# print(data.head())\n",
        "# print(data.tail())\n",
        "# print(data.describe())\n",
        "# print(data.info())\n",
        "print(data.isnull().sum())\n",
        "plt.hist(data['mpg'],bins=10)\n",
        "plt.show()\n",
        "\n",
        "plt.scatter(data['mpg'],data['wt'])\n",
        "plt.show()\n",
        "# print(data.values)\n",
        "display(data.loc[2 : 5])\n",
        "\n",
        "display(data.iloc[1 : 5, 2 : 5])\n",
        "\n",
        "df=pd.DataFrame(data,columns=['gear'])\n",
        "print(\"Count How many values:\\n\",df['gear'].value_counts())"
      ],
      "metadata": {
        "id": "X_Ntg-djYQsn",
        "colab": {
          "base_uri": "https://localhost:8080/",
          "height": 398
        },
        "outputId": "7d32748c-9dcd-42dd-9d1b-f1070c9a996d"
      },
      "execution_count": 12,
      "outputs": [
        {
          "output_type": "error",
          "ename": "FileNotFoundError",
          "evalue": "ignored",
          "traceback": [
            "\u001b[0;31m---------------------------------------------------------------------------\u001b[0m",
            "\u001b[0;31mFileNotFoundError\u001b[0m                         Traceback (most recent call last)",
            "\u001b[0;32m<ipython-input-12-4c77bae74c08>\u001b[0m in \u001b[0;36m<cell line: 6>\u001b[0;34m()\u001b[0m\n\u001b[1;32m      4\u001b[0m \u001b[0;34m\u001b[0m\u001b[0m\n\u001b[1;32m      5\u001b[0m \u001b[0;34m\u001b[0m\u001b[0m\n\u001b[0;32m----> 6\u001b[0;31m \u001b[0mdata\u001b[0m\u001b[0;34m=\u001b[0m\u001b[0mpd\u001b[0m\u001b[0;34m.\u001b[0m\u001b[0mread_csv\u001b[0m\u001b[0;34m(\u001b[0m\u001b[0;34m'mtcars.csv'\u001b[0m\u001b[0;34m)\u001b[0m\u001b[0;34m\u001b[0m\u001b[0;34m\u001b[0m\u001b[0m\n\u001b[0m\u001b[1;32m      7\u001b[0m \u001b[0md\u001b[0m\u001b[0;34m=\u001b[0m\u001b[0mpd\u001b[0m\u001b[0;34m.\u001b[0m\u001b[0mcrosstab\u001b[0m\u001b[0;34m(\u001b[0m\u001b[0mindex\u001b[0m\u001b[0;34m=\u001b[0m\u001b[0mdata\u001b[0m\u001b[0;34m[\u001b[0m\u001b[0;34m'cyl'\u001b[0m\u001b[0;34m]\u001b[0m\u001b[0;34m,\u001b[0m\u001b[0mcolumns\u001b[0m\u001b[0;34m=\u001b[0m\u001b[0;34m\"count\"\u001b[0m\u001b[0;34m,\u001b[0m\u001b[0mdropna\u001b[0m\u001b[0;34m=\u001b[0m\u001b[0;32mTrue\u001b[0m\u001b[0;34m)\u001b[0m\u001b[0;34m\u001b[0m\u001b[0;34m\u001b[0m\u001b[0m\n\u001b[1;32m      8\u001b[0m \u001b[0;31m# print(d)\u001b[0m\u001b[0;34m\u001b[0m\u001b[0;34m\u001b[0m\u001b[0m\n",
            "\u001b[0;32m/usr/local/lib/python3.9/dist-packages/pandas/util/_decorators.py\u001b[0m in \u001b[0;36mwrapper\u001b[0;34m(*args, **kwargs)\u001b[0m\n\u001b[1;32m    309\u001b[0m                     \u001b[0mstacklevel\u001b[0m\u001b[0;34m=\u001b[0m\u001b[0mstacklevel\u001b[0m\u001b[0;34m,\u001b[0m\u001b[0;34m\u001b[0m\u001b[0;34m\u001b[0m\u001b[0m\n\u001b[1;32m    310\u001b[0m                 )\n\u001b[0;32m--> 311\u001b[0;31m             \u001b[0;32mreturn\u001b[0m \u001b[0mfunc\u001b[0m\u001b[0;34m(\u001b[0m\u001b[0;34m*\u001b[0m\u001b[0margs\u001b[0m\u001b[0;34m,\u001b[0m \u001b[0;34m**\u001b[0m\u001b[0mkwargs\u001b[0m\u001b[0;34m)\u001b[0m\u001b[0;34m\u001b[0m\u001b[0;34m\u001b[0m\u001b[0m\n\u001b[0m\u001b[1;32m    312\u001b[0m \u001b[0;34m\u001b[0m\u001b[0m\n\u001b[1;32m    313\u001b[0m         \u001b[0;32mreturn\u001b[0m \u001b[0mwrapper\u001b[0m\u001b[0;34m\u001b[0m\u001b[0;34m\u001b[0m\u001b[0m\n",
            "\u001b[0;32m/usr/local/lib/python3.9/dist-packages/pandas/io/parsers/readers.py\u001b[0m in \u001b[0;36mread_csv\u001b[0;34m(filepath_or_buffer, sep, delimiter, header, names, index_col, usecols, squeeze, prefix, mangle_dupe_cols, dtype, engine, converters, true_values, false_values, skipinitialspace, skiprows, skipfooter, nrows, na_values, keep_default_na, na_filter, verbose, skip_blank_lines, parse_dates, infer_datetime_format, keep_date_col, date_parser, dayfirst, cache_dates, iterator, chunksize, compression, thousands, decimal, lineterminator, quotechar, quoting, doublequote, escapechar, comment, encoding, encoding_errors, dialect, error_bad_lines, warn_bad_lines, on_bad_lines, delim_whitespace, low_memory, memory_map, float_precision, storage_options)\u001b[0m\n\u001b[1;32m    676\u001b[0m     \u001b[0mkwds\u001b[0m\u001b[0;34m.\u001b[0m\u001b[0mupdate\u001b[0m\u001b[0;34m(\u001b[0m\u001b[0mkwds_defaults\u001b[0m\u001b[0;34m)\u001b[0m\u001b[0;34m\u001b[0m\u001b[0;34m\u001b[0m\u001b[0m\n\u001b[1;32m    677\u001b[0m \u001b[0;34m\u001b[0m\u001b[0m\n\u001b[0;32m--> 678\u001b[0;31m     \u001b[0;32mreturn\u001b[0m \u001b[0m_read\u001b[0m\u001b[0;34m(\u001b[0m\u001b[0mfilepath_or_buffer\u001b[0m\u001b[0;34m,\u001b[0m \u001b[0mkwds\u001b[0m\u001b[0;34m)\u001b[0m\u001b[0;34m\u001b[0m\u001b[0;34m\u001b[0m\u001b[0m\n\u001b[0m\u001b[1;32m    679\u001b[0m \u001b[0;34m\u001b[0m\u001b[0m\n\u001b[1;32m    680\u001b[0m \u001b[0;34m\u001b[0m\u001b[0m\n",
            "\u001b[0;32m/usr/local/lib/python3.9/dist-packages/pandas/io/parsers/readers.py\u001b[0m in \u001b[0;36m_read\u001b[0;34m(filepath_or_buffer, kwds)\u001b[0m\n\u001b[1;32m    573\u001b[0m \u001b[0;34m\u001b[0m\u001b[0m\n\u001b[1;32m    574\u001b[0m     \u001b[0;31m# Create the parser.\u001b[0m\u001b[0;34m\u001b[0m\u001b[0;34m\u001b[0m\u001b[0m\n\u001b[0;32m--> 575\u001b[0;31m     \u001b[0mparser\u001b[0m \u001b[0;34m=\u001b[0m \u001b[0mTextFileReader\u001b[0m\u001b[0;34m(\u001b[0m\u001b[0mfilepath_or_buffer\u001b[0m\u001b[0;34m,\u001b[0m \u001b[0;34m**\u001b[0m\u001b[0mkwds\u001b[0m\u001b[0;34m)\u001b[0m\u001b[0;34m\u001b[0m\u001b[0;34m\u001b[0m\u001b[0m\n\u001b[0m\u001b[1;32m    576\u001b[0m \u001b[0;34m\u001b[0m\u001b[0m\n\u001b[1;32m    577\u001b[0m     \u001b[0;32mif\u001b[0m \u001b[0mchunksize\u001b[0m \u001b[0;32mor\u001b[0m \u001b[0miterator\u001b[0m\u001b[0;34m:\u001b[0m\u001b[0;34m\u001b[0m\u001b[0;34m\u001b[0m\u001b[0m\n",
            "\u001b[0;32m/usr/local/lib/python3.9/dist-packages/pandas/io/parsers/readers.py\u001b[0m in \u001b[0;36m__init__\u001b[0;34m(self, f, engine, **kwds)\u001b[0m\n\u001b[1;32m    930\u001b[0m \u001b[0;34m\u001b[0m\u001b[0m\n\u001b[1;32m    931\u001b[0m         \u001b[0mself\u001b[0m\u001b[0;34m.\u001b[0m\u001b[0mhandles\u001b[0m\u001b[0;34m:\u001b[0m \u001b[0mIOHandles\u001b[0m \u001b[0;34m|\u001b[0m \u001b[0;32mNone\u001b[0m \u001b[0;34m=\u001b[0m \u001b[0;32mNone\u001b[0m\u001b[0;34m\u001b[0m\u001b[0;34m\u001b[0m\u001b[0m\n\u001b[0;32m--> 932\u001b[0;31m         \u001b[0mself\u001b[0m\u001b[0;34m.\u001b[0m\u001b[0m_engine\u001b[0m \u001b[0;34m=\u001b[0m \u001b[0mself\u001b[0m\u001b[0;34m.\u001b[0m\u001b[0m_make_engine\u001b[0m\u001b[0;34m(\u001b[0m\u001b[0mf\u001b[0m\u001b[0;34m,\u001b[0m \u001b[0mself\u001b[0m\u001b[0;34m.\u001b[0m\u001b[0mengine\u001b[0m\u001b[0;34m)\u001b[0m\u001b[0;34m\u001b[0m\u001b[0;34m\u001b[0m\u001b[0m\n\u001b[0m\u001b[1;32m    933\u001b[0m \u001b[0;34m\u001b[0m\u001b[0m\n\u001b[1;32m    934\u001b[0m     \u001b[0;32mdef\u001b[0m \u001b[0mclose\u001b[0m\u001b[0;34m(\u001b[0m\u001b[0mself\u001b[0m\u001b[0;34m)\u001b[0m\u001b[0;34m:\u001b[0m\u001b[0;34m\u001b[0m\u001b[0;34m\u001b[0m\u001b[0m\n",
            "\u001b[0;32m/usr/local/lib/python3.9/dist-packages/pandas/io/parsers/readers.py\u001b[0m in \u001b[0;36m_make_engine\u001b[0;34m(self, f, engine)\u001b[0m\n\u001b[1;32m   1214\u001b[0m             \u001b[0;31m# \"Union[str, PathLike[str], ReadCsvBuffer[bytes], ReadCsvBuffer[str]]\"\u001b[0m\u001b[0;34m\u001b[0m\u001b[0;34m\u001b[0m\u001b[0m\n\u001b[1;32m   1215\u001b[0m             \u001b[0;31m# , \"str\", \"bool\", \"Any\", \"Any\", \"Any\", \"Any\", \"Any\"\u001b[0m\u001b[0;34m\u001b[0m\u001b[0;34m\u001b[0m\u001b[0m\n\u001b[0;32m-> 1216\u001b[0;31m             self.handles = get_handle(  # type: ignore[call-overload]\n\u001b[0m\u001b[1;32m   1217\u001b[0m                 \u001b[0mf\u001b[0m\u001b[0;34m,\u001b[0m\u001b[0;34m\u001b[0m\u001b[0;34m\u001b[0m\u001b[0m\n\u001b[1;32m   1218\u001b[0m                 \u001b[0mmode\u001b[0m\u001b[0;34m,\u001b[0m\u001b[0;34m\u001b[0m\u001b[0;34m\u001b[0m\u001b[0m\n",
            "\u001b[0;32m/usr/local/lib/python3.9/dist-packages/pandas/io/common.py\u001b[0m in \u001b[0;36mget_handle\u001b[0;34m(path_or_buf, mode, encoding, compression, memory_map, is_text, errors, storage_options)\u001b[0m\n\u001b[1;32m    784\u001b[0m         \u001b[0;32mif\u001b[0m \u001b[0mioargs\u001b[0m\u001b[0;34m.\u001b[0m\u001b[0mencoding\u001b[0m \u001b[0;32mand\u001b[0m \u001b[0;34m\"b\"\u001b[0m \u001b[0;32mnot\u001b[0m \u001b[0;32min\u001b[0m \u001b[0mioargs\u001b[0m\u001b[0;34m.\u001b[0m\u001b[0mmode\u001b[0m\u001b[0;34m:\u001b[0m\u001b[0;34m\u001b[0m\u001b[0;34m\u001b[0m\u001b[0m\n\u001b[1;32m    785\u001b[0m             \u001b[0;31m# Encoding\u001b[0m\u001b[0;34m\u001b[0m\u001b[0;34m\u001b[0m\u001b[0m\n\u001b[0;32m--> 786\u001b[0;31m             handle = open(\n\u001b[0m\u001b[1;32m    787\u001b[0m                 \u001b[0mhandle\u001b[0m\u001b[0;34m,\u001b[0m\u001b[0;34m\u001b[0m\u001b[0;34m\u001b[0m\u001b[0m\n\u001b[1;32m    788\u001b[0m                 \u001b[0mioargs\u001b[0m\u001b[0;34m.\u001b[0m\u001b[0mmode\u001b[0m\u001b[0;34m,\u001b[0m\u001b[0;34m\u001b[0m\u001b[0;34m\u001b[0m\u001b[0m\n",
            "\u001b[0;31mFileNotFoundError\u001b[0m: [Errno 2] No such file or directory: 'mtcars.csv'"
          ]
        }
      ]
    },
    {
      "cell_type": "code",
      "source": [
        "import numpy as np\n",
        "import matplotlib as plt\n",
        "from sklearn import datasets \n",
        "from sklearn import metrics \n",
        "from sklearn.linear_model import LogisticRegression\n",
        "\n",
        "iris = datasets.load_iris()\n",
        "X = iris.data\n",
        "y= iris.target\n",
        "feature_names = iris.feature_names\n",
        "target_names = iris.target_names\n",
        "print(\"Feature names:\", feature_names)\n",
        "print(\"Target names:\", target_names)\n",
        "print(\"\\nFirst 10 rows of X:\\n\", X[:10])\n",
        "\n",
        "from sklearn.model_selection import train_test_split\n",
        "X_train, X_test, y_train, y_test = train_test_split(\n",
        "X, y, test_size = 0.4, random_state=1\n",
        ")"
      ],
      "metadata": {
        "id": "Q72Y8gwIYpiq"
      },
      "execution_count": null,
      "outputs": []
    }
  ]
}